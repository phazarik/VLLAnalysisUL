{
 "cells": [
  {
   "cell_type": "code",
   "execution_count": null,
   "metadata": {},
   "outputs": [],
   "source": []
  },
  {
   "cell_type": "code",
   "execution_count": 1,
   "metadata": {},
   "outputs": [
    {
     "name": "stdout",
     "output_type": "stream",
     "text": [
      "Welcome to JupyROOT 6.24/02\n"
     ]
    }
   ],
   "source": [
    "import ROOT\n",
    "from ROOT import *"
   ]
  },
  {
   "cell_type": "markdown",
   "metadata": {},
   "source": [
    " Get the data and background histogram files\n",
    " \n",
    " Make a dictionary contains of data and MC histo files for later"
   ]
  },
  {
   "cell_type": "code",
   "execution_count": 2,
   "metadata": {},
   "outputs": [
    {
     "data": {
      "text/plain": [
       "{'data': <cppyy.gbl.TFile object at 0x4dcf920>,\n",
       " 'wjets': <cppyy.gbl.TFile object at 0x345aed0>,\n",
       " 'zjets': <cppyy.gbl.TFile object at 0x41db570>,\n",
       " 'ttjets': <cppyy.gbl.TFile object at 0x4267390>,\n",
       " 'tW': <cppyy.gbl.TFile object at 0x4267b10>,\n",
       " 'ST': <cppyy.gbl.TFile object at 0x1efd6c0>,\n",
       " 'WW2Q': <cppyy.gbl.TFile object at 0x1ebff70>,\n",
       " 'QCD': <cppyy.gbl.TFile object at 0x85ae120>}"
      ]
     },
     "execution_count": 2,
     "metadata": {},
     "output_type": "execute_result"
    }
   ],
   "source": [
    "inputfilepath='../inputfiles/'\n",
    "\n",
    "WorkdayTag= '_Sep6_v0'\n",
    "\n",
    "AnalysisName= 'VLL2018_'\n",
    "\n",
    "dataAndMCbundle=['Data','wjets','zjets','ttjets','tW','STtchannelTop','WW2Q','QCDMultijet']\n",
    "FileName=['data', 'wjets', 'zjets', 'ttjets', 'tW', 'ST', 'WW2Q','QCD']\n",
    "#dataAndMCbundle=['Data','wjets','zjets','ttjets','tW','STtchannelTop','WW2Q']\n",
    "#FileName=['data', 'wjets', 'zjets', 'ttjets', 'tW', 'ST', 'WW2Q']\n",
    "FilesDict={}\n",
    "for ifile,file in enumerate(dataAndMCbundle):\n",
    "    file_ifile=TFile.Open(inputfilepath+AnalysisName+dataAndMCbundle[ifile]+WorkdayTag+'.root','READ')\n",
    "    FilesDict[FileName[ifile]]=file_ifile\n",
    "        \n",
    "FilesDict"
   ]
  },
  {
   "cell_type": "code",
   "execution_count": 3,
   "metadata": {},
   "outputs": [],
   "source": [
    "CrossSectionDB={\n",
    "    'data':1,\n",
    "    'wjets':50380,\n",
    "    'zjets':5765,\n",
    "    'ttjets':365.34,\n",
    "    'tW':34.91,\n",
    "    'ST':136.02,\n",
    "    'WW2Q':45.68,\n",
    "    'QCD':239400    \n",
    "}\n",
    "\n",
    "OverlayColorScheme={\n",
    "    'data':kBlack,\n",
    "    'wjets':kGray+1,\n",
    "    'zjets':kRed-9,\n",
    "    'ttjets':kCyan-10,\n",
    "    'tW':kBlue-9,\n",
    "    'ST':kBlue-7,\n",
    "    'WW2Q':kGreen-4,\n",
    "    'QCD':kYellow    \n",
    "}\n",
    "\n",
    "StackingColorScheme={\n",
    "    'data':kBlack,\n",
    "    'wjets':kGray+1,\n",
    "    'zjets':kRed-9,\n",
    "    'ttjets':kCyan-10,\n",
    "    'tW':kBlue-9,\n",
    "    'ST':kBlue-5,\n",
    "    'WW2Q':kGreen-10,\n",
    "    'QCD':kYellow-10    \n",
    "}                 "
   ]
  },
  {
   "cell_type": "markdown",
   "metadata": {},
   "source": [
    "Lets take one variable for plotting\n",
    " - **Type:**  \" \",\"_highMVA\",\"_regA\",\"_regB\",\"_regC\",\"_regD\"\n",
    " "
   ]
  },
  {
   "cell_type": "code",
   "execution_count": 4,
   "metadata": {},
   "outputs": [
    {
     "name": "stdout",
     "output_type": "stream",
     "text": [
      "We want to plot mtjet0_l2j at Basic WjetsCR\n"
     ]
    }
   ],
   "source": [
    "var='mtjet0'\n",
    "Type=[\"\",\"_highMVA\",\"_regA\",\"_regB\",\"_regC\",\"_regD\"]\n",
    "Description=['Basic WjetsCR','High MVA region','Region A','Region B','Region C','Region D']\n",
    "Plotname = var+Type[0]+'_l2j'\n",
    "print('We want to plot '+ Plotname + ' at '+ Description[0])"
   ]
  },
  {
   "cell_type": "code",
   "execution_count": 5,
   "metadata": {},
   "outputs": [
    {
     "data": {
      "text/plain": [
       "<cppyy.gbl.TH1F object at 0x7fd2b20>"
      ]
     },
     "execution_count": 5,
     "metadata": {},
     "output_type": "execute_result"
    }
   ],
   "source": [
    "FilesDict['data'].Get(Plotname)"
   ]
  },
  {
   "cell_type": "code",
   "execution_count": 6,
   "metadata": {},
   "outputs": [],
   "source": [
    "#Count Events in histogram\n",
    "def Count(histo):                                                               \n",
    "    n_count=\"{:.3f}\".format(histo.Integral())                                   \n",
    "    return str(n_count) "
   ]
  },
  {
   "cell_type": "markdown",
   "metadata": {},
   "source": [
    "Let get the corresponding histogram from their TFiles"
   ]
  },
  {
   "cell_type": "code",
   "execution_count": 7,
   "metadata": {},
   "outputs": [],
   "source": [
    "HistoDict={}\n",
    "histogram=[]\n",
    "dataLumi=59.7*1000 #in pb\n",
    "\n",
    "for index,(filekey,file) in enumerate(FilesDict.items()):\n",
    "    #print(filekey,file)\n",
    "    histo= file.Get(Plotname)\n",
    "    histo.SetDirectory(0)\n",
    "    histoevent=float(Count(histo))\n",
    "    \n",
    "    #LumiCorr-------------------------------\n",
    "    totEvent=file.nEvents.GetBinContent(2)\n",
    "    Xsec=CrossSectionDB[filekey]\n",
    "    sampleLumi=totEvent/Xsec\n",
    "    if(filekey!='data'): lumi_corr=dataLumi/sampleLumi\n",
    "    else: lumi_corr=1\n",
    "    #print(filekey,totEvent,Xsec,sampleLumi,lumi_corr)    \n",
    "    histo.Scale(lumi_corr)\n",
    "    histoeventAfterCorr=float(Count(histo))\n",
    "    #---------------------------------------\n",
    "    histogram.append([filekey,histoevent,histoeventAfterCorr,OverlayColorScheme[filekey],histo])\n",
    "    HistoDict[filekey]=[filekey,histoevent,histoeventAfterCorr,OverlayColorScheme[filekey],histo]\n",
    "    "
   ]
  },
  {
   "cell_type": "code",
   "execution_count": 8,
   "metadata": {},
   "outputs": [
    {
     "data": {
      "text/plain": [
       "[['data', 2200913.0, 2200913.0, 1, <cppyy.gbl.TH1F object at 0x7fd2b20>],\n",
       " ['wjets', 24415.0, 1279260.417, 921, <cppyy.gbl.TH1F object at 0x878ca70>],\n",
       " ['zjets', 32652.0, 112696.473, 623, <cppyy.gbl.TH1F object at 0x8756700>],\n",
       " ['ttjets', 417770.0, 99024.552, 422, <cppyy.gbl.TH1F object at 0x33ec250>],\n",
       " ['tW', 45837.0, 9953.129, 591, <cppyy.gbl.TH1F object at 0x8762360>],\n",
       " ['ST', 7040.0, 4095.597, 593, <cppyy.gbl.TH1F object at 0x8750820>],\n",
       " ['WW2Q', 41762.0, 24318.957, 412, <cppyy.gbl.TH1F object at 0x33f6900>],\n",
       " ['QCD', 1018.0, 656405.56, 400, <cppyy.gbl.TH1F object at 0x8786e00>]]"
      ]
     },
     "execution_count": 8,
     "metadata": {},
     "output_type": "execute_result"
    }
   ],
   "source": [
    "histogram"
   ]
  },
  {
   "cell_type": "code",
   "execution_count": 9,
   "metadata": {},
   "outputs": [],
   "source": [
    "def SortDict(dic,opt):\n",
    "    return dict(sorted(dic.items(),key=lambda x:x[1][1],reverse=opt))    "
   ]
  },
  {
   "cell_type": "code",
   "execution_count": 10,
   "metadata": {},
   "outputs": [],
   "source": [
    "HistoDict=SortDict(HistoDict,True) ## Sort the dict in terms of no of events\n",
    "                                   ## Sort(dic,True)==Descending order \n",
    "                                   ## Sort(dic,False)==Ascending order"
   ]
  },
  {
   "cell_type": "code",
   "execution_count": 11,
   "metadata": {},
   "outputs": [
    {
     "data": {
      "text/plain": [
       "dict_keys(['data', 'ttjets', 'tW', 'WW2Q', 'zjets', 'wjets', 'ST', 'QCD'])"
      ]
     },
     "execution_count": 11,
     "metadata": {},
     "output_type": "execute_result"
    }
   ],
   "source": [
    "HistoDict.keys()"
   ]
  },
  {
   "cell_type": "markdown",
   "metadata": {},
   "source": [
    "Make a copy of this dictionary to plot overlay histogram"
   ]
  },
  {
   "cell_type": "code",
   "execution_count": 12,
   "metadata": {},
   "outputs": [],
   "source": [
    "import copy\n",
    "HistoDictForOverlay=copy.deepcopy(HistoDict)"
   ]
  },
  {
   "cell_type": "code",
   "execution_count": null,
   "metadata": {},
   "outputs": [],
   "source": []
  },
  {
   "cell_type": "code",
   "execution_count": null,
   "metadata": {},
   "outputs": [],
   "source": []
  },
  {
   "cell_type": "code",
   "execution_count": null,
   "metadata": {},
   "outputs": [],
   "source": []
  },
  {
   "cell_type": "code",
   "execution_count": null,
   "metadata": {},
   "outputs": [],
   "source": []
  },
  {
   "cell_type": "markdown",
   "metadata": {},
   "source": [
    "## Lets overlay them for shape study"
   ]
  },
  {
   "cell_type": "code",
   "execution_count": 13,
   "metadata": {},
   "outputs": [],
   "source": [
    "import plot_settings as plotsetting\n",
    "\n",
    "plotsetting.PlotRatioPad=False\n",
    "plotsetting.year=2018                                                                                                           \n",
    "plotsetting.publicationStyle=True                                                                                           "
   ]
  },
  {
   "cell_type": "code",
   "execution_count": 14,
   "metadata": {},
   "outputs": [],
   "source": [
    "#bkgBundle=['wjets', 'zjets', 'ttjets', 'tW', 'ST', 'WW2Q','QCD']\n",
    "bkgBundle=list(HistoDictForOverlay.keys())[1:]"
   ]
  },
  {
   "cell_type": "code",
   "execution_count": 15,
   "metadata": {
    "scrolled": false
   },
   "outputs": [
    {
     "name": "stdout",
     "output_type": "stream",
     "text": [
      "0.23761878907680511\n",
      "0.24936187267303467\n",
      "0.2492217868566513\n",
      "0.4444444477558136\n",
      "0.3136596381664276\n",
      "0.29673296213150024\n",
      "0.5294695496559143\n"
     ]
    },
    {
     "data": {
      "image/png": "[encoded data removed]",
      "text/plain": [
       "<IPython.core.display.Image object>"
      ]
     },
     "metadata": {},
     "output_type": "display_data"
    }
   ],
   "source": [
    "canvas=TCanvas(\"canvas\",\"\",700,600)\n",
    "mainpad=plotsetting.CreatePad(\"mainpad\",0,1)\n",
    "mainpad.SetLogy(0)\n",
    "mainpad.Draw()\n",
    "mainpad.cd()\n",
    "#Legend\n",
    "legend=TLegend(0.60,0.55,0.90,0.82)\n",
    "plotsetting.SetLegendStyle(legend)\n",
    "for imc,mc in enumerate(bkgBundle):\n",
    "    histoname=HistoDictForOverlay[mc][0]\n",
    "    color=HistoDictForOverlay[mc][3]\n",
    "    histo=HistoDictForOverlay[mc][-1]\n",
    "    histo.Draw(\"HIST SAME\")\n",
    "    histo.Rebin(50)\n",
    "    histo.Scale(1/float(Count(histo)))\n",
    "    plotsetting.SetOverlayHistoStyle(histo,color,2,\"HT (GeV)\")\n",
    "    #histo.SetLineColor(color)\n",
    "    #histo.SetLineWidth(2)\n",
    "    maxbin=histo.GetMaximumBin()\n",
    "    maxheight=histo.GetBinContent(maxbin)\n",
    "    histo.GetYaxis().SetRangeUser(0.001,(maxheight*2.6))\n",
    "    #histo.GetYaxis().SetTitle('Normalized Count')\n",
    "    \n",
    "    print(histo.GetBinContent(maxbin))\n",
    "    #histo.SetMarkerStyle(20)\n",
    "    legend.AddEntry(histo,histoname,'l')\n",
    "    legend.Draw()\n",
    "\n",
    "    \n",
    "canvas.Draw()"
   ]
  },
  {
   "cell_type": "code",
   "execution_count": null,
   "metadata": {},
   "outputs": [],
   "source": []
  },
  {
   "cell_type": "code",
   "execution_count": null,
   "metadata": {},
   "outputs": [],
   "source": []
  },
  {
   "cell_type": "code",
   "execution_count": null,
   "metadata": {},
   "outputs": [],
   "source": []
  },
  {
   "cell_type": "code",
   "execution_count": null,
   "metadata": {},
   "outputs": [],
   "source": []
  },
  {
   "cell_type": "markdown",
   "metadata": {},
   "source": [
    "## Let's do Stack Histogramming and Plot data"
   ]
  },
  {
   "cell_type": "markdown",
   "metadata": {},
   "source": [
    "Just check the Dictionary to see all component is present"
   ]
  },
  {
   "cell_type": "code",
   "execution_count": 16,
   "metadata": {},
   "outputs": [
    {
     "data": {
      "text/plain": [
       "dict_values([['data', 2200913.0, 2200913.0, 1, <cppyy.gbl.TH1F object at 0x7fd2b20>], ['ttjets', 417770.0, 99024.552, 422, <cppyy.gbl.TH1F object at 0x33ec250>], ['tW', 45837.0, 9953.129, 591, <cppyy.gbl.TH1F object at 0x8762360>], ['WW2Q', 41762.0, 24318.957, 412, <cppyy.gbl.TH1F object at 0x33f6900>], ['zjets', 32652.0, 112696.473, 623, <cppyy.gbl.TH1F object at 0x8756700>], ['wjets', 24415.0, 1279260.417, 921, <cppyy.gbl.TH1F object at 0x878ca70>], ['ST', 7040.0, 4095.597, 593, <cppyy.gbl.TH1F object at 0x8750820>], ['QCD', 1018.0, 656405.56, 400, <cppyy.gbl.TH1F object at 0x8786e00>]])"
      ]
     },
     "execution_count": 16,
     "metadata": {},
     "output_type": "execute_result"
    }
   ],
   "source": [
    "HistoDict.values()"
   ]
  },
  {
   "cell_type": "code",
   "execution_count": 17,
   "metadata": {},
   "outputs": [
    {
     "name": "stdout",
     "output_type": "stream",
     "text": [
      "Wjets=  1279260.417\n"
     ]
    }
   ],
   "source": [
    "##Test\n",
    "#print(Count(HistoDict['wjets'][-1]))\n",
    "if(float(Count(HistoDict['wjets'][-1]))<10):\n",
    "    print(\"**************\")\n",
    "    print(\"Caution!!!!!!!!!!!!!!!! The histograms in dictionary is already normalized to 1\")\n",
    "    print(\"Please make a deep copy of the master dictionary and use them\")\n",
    "    print(\"**************\")\n",
    "else:\n",
    "    print(\"Wjets= \",Count(HistoDict['wjets'][-1]))"
   ]
  },
  {
   "cell_type": "code",
   "execution_count": 18,
   "metadata": {},
   "outputs": [
    {
     "name": "stdout",
     "output_type": "stream",
     "text": [
      "         Summary Report                \n",
      "_________________________________________\n",
      "   \n",
      "  Name         No of Events \n",
      "--------    -------------------\n",
      " ST          4095.597\n",
      " tW          9953.129\n",
      " WW2Q          24318.957\n",
      " ttjets          99024.552\n",
      " zjets          112696.473\n",
      " QCD          656405.56\n",
      " wjets          1279260.417\n",
      " data          2200913.0\n",
      "_________________________________________\n",
      "    \n",
      "obs=2200913.0, exp=2185754.685\n",
      "obs/exp= 1.006\n",
      "_________________________________________\n",
      "                                         \n",
      "Background Bundle= ['ST', 'tW', 'WW2Q', 'ttjets', 'zjets', 'QCD', 'wjets']\n"
     ]
    }
   ],
   "source": [
    "###Sorting based on lumi corrected weight\n",
    "HistoDict=dict(sorted(HistoDict.items(),key=lambda x:x[1][2],reverse=False))\n",
    "print(\"         Summary Report                \")\n",
    "print(\"_________________________________________\")\n",
    "print(\"   \")\n",
    "print( \"  Name\"+\"     \"+\"    No of Events \")\n",
    "print(\"--------\"+\"    \"+\"-------------------\")\n",
    "exp=0\n",
    "for key in HistoDict.keys():\n",
    "    if(key!='data'): exp=exp+HistoDict[key][2]\n",
    "    print(\" \"+ key+\"          \" +str(HistoDict[key][2]))\n",
    "print(\"_________________________________________\")\n",
    "print(\"    \")\n",
    "print(\"obs=\"+str(HistoDict['data'][2])+\", \"+\"exp=\"+str(exp))\n",
    "print(\"obs/exp=\",str((HistoDict['data'][2]/exp))[:5])\n",
    "print(\"_________________________________________\")\n",
    "print(\"                                         \")\n",
    "obs=HistoDict['data'][2]\n",
    "bkgBundle=list(HistoDict.keys())[:-1]\n",
    "print(\"Background Bundle=\",bkgBundle)    "
   ]
  },
  {
   "cell_type": "code",
   "execution_count": null,
   "metadata": {},
   "outputs": [],
   "source": []
  },
  {
   "cell_type": "markdown",
   "metadata": {},
   "source": [
    "Now Lets make the plot"
   ]
  },
  {
   "cell_type": "code",
   "execution_count": 19,
   "metadata": {},
   "outputs": [],
   "source": [
    "rebin=50   ###BinWidth"
   ]
  },
  {
   "cell_type": "code",
   "execution_count": 20,
   "metadata": {},
   "outputs": [],
   "source": [
    "dataHisto=HistoDict['data'][-1]\n",
    "dataHisto.Rebin(rebin)\n",
    "plotsetting.SetOverflowBin(dataHisto)"
   ]
  },
  {
   "cell_type": "code",
   "execution_count": 21,
   "metadata": {},
   "outputs": [
    {
     "data": {
      "text/plain": [
       "True"
      ]
     },
     "execution_count": 21,
     "metadata": {},
     "output_type": "execute_result"
    }
   ],
   "source": [
    "##Stacking(ALL MC Backgrounds)\n",
    "stack=THStack()\n",
    "ratioHisto=dataHisto.Clone()\n",
    "h_Allbkg=HistoDict['ST'][-1].Clone()\n",
    "h_Allbkg.Rebin(rebin)\n",
    "for imc,mc in enumerate(bkgBundle):\n",
    "    histoname=HistoDict[mc][0]\n",
    "    color=HistoDict[mc][3]\n",
    "    histo=HistoDict[mc][-1]    \n",
    "    ##SetStyle\n",
    "    histo.SetLineWidth(0)                                                                                                       \n",
    "    histo.SetLineColor(1)                                                                                                       \n",
    "    histo.SetFillColor(color)                                                                                             \n",
    "    histo.Rebin(rebin)\n",
    "    plotsetting.SetOverflowBin(histo)\n",
    "    stack.Add(histo)                                                                                                            \n",
    "    #Denominotor for ratioPlot\n",
    "    if(imc>0): h_Allbkg.Add(histo)\n",
    "ratioHisto.Divide(h_Allbkg)        "
   ]
  },
  {
   "cell_type": "code",
   "execution_count": 22,
   "metadata": {},
   "outputs": [],
   "source": [
    "import plot_settings as plotsetting\n",
    "plotsetting.PlotRatioPad=True\n",
    "plotsetting.year=2018                                                                                                           \n",
    "plotsetting.publicationStyle=False\n",
    "plotsetting.WorkInProgress=True"
   ]
  },
  {
   "cell_type": "code",
   "execution_count": null,
   "metadata": {},
   "outputs": [],
   "source": []
  },
  {
   "cell_type": "code",
   "execution_count": 23,
   "metadata": {},
   "outputs": [],
   "source": [
    "##Obs/Exp Legend\n",
    "ratioleg = ROOT.TLegend(0.99, 0.90, 0.81,0.87)\n",
    "plotsetting.SetLegendStyle(ratioleg)\n",
    "ratioleg.SetTextSize(0.03)\n",
    "ratioleg.SetHeader(\"obs/exp=\"+(str(obs/exp)[:5]))\n",
    "\n",
    "##Legend Settings\n",
    "legend = ROOT.TLegend(0.99, 0.45, 0.80,0.86) \n",
    "plotsetting.SetLegendStyle(legend)\n",
    "legend.AddEntry(dataHisto,\"Data [\"+plotsetting.Count(dataHisto)+\"]\",\"ep\")\n",
    "for imc,mc in reversed(list(enumerate(bkgBundle))):\n",
    "    histoname=HistoDict[mc][0]\n",
    "    color=HistoDict[mc][3]\n",
    "    histo=HistoDict[mc][-1]    \n",
    "    legend.AddEntry(histo,histoname+\"[\"+Count(histo)+\"]\",\"lf\")"
   ]
  },
  {
   "cell_type": "code",
   "execution_count": 24,
   "metadata": {
    "scrolled": false
   },
   "outputs": [
    {
     "name": "stderr",
     "output_type": "stream",
     "text": [
      "Warning in <TCanvas::Constructor>: Deleting canvas with same name: canvas\n",
      "Info in <TCanvas::Print>: pdf file ../output/VLL2018_WJetCR_mtjet0_l2j.pdf has been created\n"
     ]
    },
    {
     "data": {
      "image/png": "[encoded data removed]",
      "text/plain": [
       "<IPython.core.display.Image object>"
      ]
     },
     "metadata": {},
     "output_type": "display_data"
    }
   ],
   "source": [
    "##Plotting\n",
    "canvas=TCanvas(\"canvas\",\"\",700,600)                                                                                             \n",
    "pad=plotsetting.CreatePad(\"pad\",0,1.0)                                                                                          \n",
    "#pad.SetLogy(0)\n",
    "pad.Draw()                                                                                                                      \n",
    "\n",
    "#RatioPad                                                                                                                       \n",
    "if(plotsetting.PlotRatioPad==True):                                                                                                         \n",
    "    ratioPad = plotsetting.CreateRatioPad('ratioPad',0,0.25)                                                                    \n",
    "    ratioPad.SetGrid(1)                                                                                                         \n",
    "    ratioPad.Draw()                                                                                                             \n",
    "\n",
    "pad.cd()                                                                                                                        \n",
    "##MainPadStyle \n",
    "pad.SetFillStyle(4000)\n",
    "plotsetting.SetHistoStyle(dataHisto,xlabel=Plotname)                                                                        \n",
    "##Draw                                                                                                                          \n",
    "dataHisto.Draw(\"ep\")                                                                                                            \n",
    "stack.Draw(\"HIST SAME\")                                                                                                         \n",
    "dataHisto.Draw(\"ep same\")                                                                                                       \n",
    "legend.Draw(\"SAME\")\n",
    "ratioleg.Draw(\"SAME\")\n",
    "plotsetting.CMSLabel(pad)\n",
    "pad.SetTickx(1)\n",
    "pad.Update()\n",
    "##RatioPadDraw                                                                                                                  \n",
    "if(plotsetting.PlotRatioPad==True):                                                                                                         \n",
    "    ratioPad.cd()                                                                                                               \n",
    "    plotsetting.SetRatioHistoStyle(ratioHisto,xlabel=Plotname)                                                              \n",
    "    ratioHisto.Draw('ep')\n",
    "\n",
    "#Extra Text\n",
    "pad.cd()\n",
    "plotsetting.DrawText(0.60,0.84,'2018 WJets CR')    \n",
    "\n",
    "outputName=AnalysisName+'WJetCR_'+Plotname+'.pdf'\n",
    "canvas.SaveAs('../output/'+outputName)\n",
    "#print(outputName)\n",
    "canvas.Draw()"
   ]
  },
  {
   "cell_type": "code",
   "execution_count": 25,
   "metadata": {},
   "outputs": [],
   "source": [
    "#canvas.Clear()"
   ]
  },
  {
   "cell_type": "code",
   "execution_count": null,
   "metadata": {},
   "outputs": [],
   "source": []
  },
  {
   "cell_type": "code",
   "execution_count": null,
   "metadata": {},
   "outputs": [],
   "source": []
  },
  {
   "cell_type": "markdown",
   "metadata": {},
   "source": [
    "## WJets Estimation Starts\n",
    "\n",
    "### ABCD method\n",
    "\n",
    "- **Signal Region:** Region A\n",
    "\n",
    "- **Control Region:** Region B, Region C, Region D\n",
    "\n",
    "We want to predict No of Wjet events in Region A(Signal Region), using the wjet yield taken from Region B, Region C, Region D\n",
    "\n",
    "In our control region, we calculate no of wjet events in the following way,\n",
    "\n",
    ">$$ N_{i}^{wjets}= N_{i}^{Data} - N_{i}^{otherBkg}, i= B,C,D $$\n",
    "\n",
    "> $${N}_{A}^{wjets} = \\frac{N_{C}^{wjets}}{N_{D}^{wjets}}*N_{B}^{wjets}$$\n",
    "\n",
    "\n",
    "\n"
   ]
  },
  {
   "cell_type": "code",
   "execution_count": 26,
   "metadata": {},
   "outputs": [],
   "source": [
    "def GetHistoDict(region,var):\n",
    "\n",
    "    HistoDict={}\n",
    "    histogram=[]\n",
    "    dataLumi=59.7*1000 #in pb\n",
    "\n",
    "    #Create Plotname\n",
    "    plotname=var+'_l2j_'+region\n",
    "\n",
    "    for index,(filekey,file) in enumerate(FilesDict.items()):\n",
    "        #print(filekey,file)\n",
    "        histo= file.Get(plotname)\n",
    "        histo.SetDirectory(0)\n",
    "        histoevent=float(Count(histo))\n",
    "\n",
    "        #LumiCorr-------------------------------\n",
    "        totEvent=file.nEvents.GetBinContent(2)\n",
    "        Xsec=CrossSectionDB[filekey]\n",
    "        sampleLumi=totEvent/Xsec\n",
    "        if(filekey!='data'): lumi_corr=dataLumi/sampleLumi\n",
    "        else: lumi_corr=1\n",
    "        #print(filekey,totEvent,Xsec,sampleLumi,lumi_corr)    \n",
    "        histo.Scale(lumi_corr)\n",
    "        histoeventAfterCorr=float(Count(histo))\n",
    "        #---------------------------------------\n",
    "        histogram.append([filekey,histoevent,histoeventAfterCorr,OverlayColorScheme[filekey],histo])\n",
    "        HistoDict[filekey]=[filekey,histoevent,histoeventAfterCorr,OverlayColorScheme[filekey],histo]\n",
    "\n",
    "    return HistoDict    "
   ]
  },
  {
   "cell_type": "code",
   "execution_count": 27,
   "metadata": {},
   "outputs": [],
   "source": [
    "Region_A=GetHistoDict('regA','dijetmass')\n",
    "Region_B=GetHistoDict('regB','dijetmass')\n",
    "Region_C=GetHistoDict('regC','dijetmass')\n",
    "Region_D=GetHistoDict('regD','dijetmass')"
   ]
  },
  {
   "cell_type": "code",
   "execution_count": 54,
   "metadata": {},
   "outputs": [
    {
     "data": {
      "text/plain": [
       "{'data': ['data', 888357.0, 888357.0, 1, <cppyy.gbl.TH1F object at 0x942a640>],\n",
       " 'wjets': ['wjets',\n",
       "  10107.0,\n",
       "  529571.372,\n",
       "  921,\n",
       "  <cppyy.gbl.TH1F object at 0x940e110>],\n",
       " 'zjets': ['zjets',\n",
       "  11451.0,\n",
       "  39522.459,\n",
       "  623,\n",
       "  <cppyy.gbl.TH1F object at 0x941fb20>],\n",
       " 'ttjets': ['ttjets',\n",
       "  310309.0,\n",
       "  73552.935,\n",
       "  422,\n",
       "  <cppyy.gbl.TH1F object at 0x9437e80>],\n",
       " 'tW': ['tW', 31362.0, 6810.001, 591, <cppyy.gbl.TH1F object at 0x943bd50>],\n",
       " 'ST': ['ST', 3348.0, 1947.736, 593, <cppyy.gbl.TH1F object at 0x942c280>],\n",
       " 'WW2Q': ['WW2Q',\n",
       "  24551.0,\n",
       "  14296.603,\n",
       "  412,\n",
       "  <cppyy.gbl.TH1F object at 0x93ed620>],\n",
       " 'QCD': ['QCD', 399.0, 257274.872, 400, <cppyy.gbl.TH1F object at 0x943a9b0>]}"
      ]
     },
     "execution_count": 54,
     "metadata": {},
     "output_type": "execute_result"
    }
   ],
   "source": [
    "Region_A"
   ]
  },
  {
   "cell_type": "code",
   "execution_count": null,
   "metadata": {},
   "outputs": [],
   "source": []
  },
  {
   "cell_type": "markdown",
   "metadata": {},
   "source": [
    "Predict Wjet yield from Data but shape from MC"
   ]
  },
  {
   "cell_type": "code",
   "execution_count": 29,
   "metadata": {},
   "outputs": [],
   "source": [
    "def CalculateWjetYield(Dict):\n",
    "    totOtherBkg=0\n",
    "    for index,(histkey,hist) in enumerate(Dict.items()):\n",
    "        #print(histkey,hist)    \n",
    "        events=hist[2]\n",
    "        \n",
    "        if(histkey != 'data' and histkey != 'wjets'):\n",
    "            totOtherBkg+=events\n",
    "    return totOtherBkg        "
   ]
  },
  {
   "cell_type": "code",
   "execution_count": 30,
   "metadata": {},
   "outputs": [],
   "source": [
    "#totOtherBkg=0\n",
    "#for index,(histkey,hist) in enumerate(Region_A.items()):\n",
    "#    #print(histkey,hist)    \n",
    "#    events=hist[2]\n",
    "        \n",
    "#    if(histkey != 'data' and histkey != 'wjets'):\n",
    "#        totOtherBkg+=events\n",
    "            \n",
    "#WjetFromData = Region_A['data'][2]-totOtherBkg\n",
    "#WjetFromMC   = Region_A['wjets'][2]\n",
    "#DataEvent    = Region_A['data'][2]\n",
    "\n",
    "#print('No of Wjet events from MC= ',WjetFromMC)\n",
    "#print('No of Wjet events from Data= ',WjetFromData)\n",
    "#print('No of other background events= ',totOtherBkg)\n",
    "#print('No of Data events=',DataEvent)"
   ]
  },
  {
   "cell_type": "code",
   "execution_count": 31,
   "metadata": {},
   "outputs": [],
   "source": [
    "RegionBundle=[Region_A,Region_B,Region_C,Region_D]\n",
    "WjetYield=[]"
   ]
  },
  {
   "cell_type": "code",
   "execution_count": 32,
   "metadata": {},
   "outputs": [],
   "source": [
    "for ireg,reg in enumerate(RegionBundle):\n",
    "    othbkg=CalculateWjetYield(reg)\n",
    "    dataevent= reg['data'][2]\n",
    "    wjetyield= dataevent-othbkg\n",
    "    \n",
    "    WjetYield.append(wjetyield)\n"
   ]
  },
  {
   "cell_type": "code",
   "execution_count": 33,
   "metadata": {},
   "outputs": [
    {
     "data": {
      "text/plain": [
       "[494952.394, 418312.868, 199869.73200000002, 181800.34100000001]"
      ]
     },
     "execution_count": 33,
     "metadata": {},
     "output_type": "execute_result"
    }
   ],
   "source": [
    "WjetYield"
   ]
  },
  {
   "cell_type": "code",
   "execution_count": 34,
   "metadata": {},
   "outputs": [
    {
     "name": "stdout",
     "output_type": "stream",
     "text": [
      "Transfer factor= 1.0993914032317464\n",
      "   \n"
     ]
    }
   ],
   "source": [
    "TransferFactor=WjetYield[2]/WjetYield[3]     ## 2 == Region C, 3== Region D ## Array starts at 0\n",
    "print('Transfer factor=',TransferFactor)\n",
    "print(\"   \")"
   ]
  },
  {
   "cell_type": "code",
   "execution_count": 35,
   "metadata": {},
   "outputs": [
    {
     "name": "stdout",
     "output_type": "stream",
     "text": [
      "Predicted wjet yield in Signal Region A = 459889.57094041636\n",
      "   \n",
      "wjet yield from Wjet MC in Signal Region A =  529571.372\n",
      "   \n",
      "Correction Factor taken from ABCD method= 0.868\n"
     ]
    }
   ],
   "source": [
    "print('Predicted wjet yield in Signal Region A =',TransferFactor*WjetYield[1])\n",
    "print(\"   \")\n",
    "print('wjet yield from Wjet MC in Signal Region A = ', Region_A['wjets'][2])\n",
    "\n",
    "YieldPredictedByABCD=TransferFactor*WjetYield[1]\n",
    "YieldByWjetMC = Region_A['wjets'][2]\n",
    "\n",
    "ABCDScalingFactor= \"{:.3f}\".format((YieldPredictedByABCD) / (YieldByWjetMC))\n",
    "print(\"   \")\n",
    "print('Correction Factor taken from ABCD method=', ABCDScalingFactor)"
   ]
  },
  {
   "cell_type": "code",
   "execution_count": 36,
   "metadata": {},
   "outputs": [],
   "source": [
    "#Scale the corresponding wjet histogram in Region A\n",
    "\n",
    "Region_A_PostABCD=copy.deepcopy(Region_A)\n",
    "\n",
    "Region_A_PostABCD['wjets'][-1].Scale(float(ABCDScalingFactor))"
   ]
  },
  {
   "cell_type": "code",
   "execution_count": 37,
   "metadata": {},
   "outputs": [
    {
     "name": "stdout",
     "output_type": "stream",
     "text": [
      "        Summary\n",
      "____________________________________\n",
      "    \n",
      "Wjets events Before ABCD= 529571.372\n",
      "   \n",
      "Wjets events After ABCD= 459667.955\n",
      "    \n",
      "So we take wjet histogram shape from MC but scale the yield predicted by ABCD method\n"
     ]
    }
   ],
   "source": [
    "##CheckPoint\n",
    "#print(\"    \")\n",
    "print(\"        Summary\")\n",
    "print(\"____________________________________\")\n",
    "print(\"    \")\n",
    "print('Wjets events Before ABCD=',Count(Region_A['wjets'][-1]))\n",
    "print(\"   \")\n",
    "print('Wjets events After ABCD=',Count(Region_A_PostABCD['wjets'][-1]))\n",
    "print(\"    \")\n",
    "print('So we take wjet histogram shape from MC but scale the yield predicted by ABCD method')\n"
   ]
  },
  {
   "cell_type": "markdown",
   "metadata": {},
   "source": [
    "Let's plot Stack Histogram"
   ]
  },
  {
   "cell_type": "code",
   "execution_count": 38,
   "metadata": {},
   "outputs": [],
   "source": [
    "Region_A_PostABCD=dict(sorted(Region_A_PostABCD.items(),key=lambda x:x[1][2],reverse=False))"
   ]
  },
  {
   "cell_type": "code",
   "execution_count": 39,
   "metadata": {},
   "outputs": [],
   "source": [
    "def PlotMaker(Dictionary,plotname,rebin): ## Give the dictionary of histograms\n",
    "    Dict=copy.deepcopy(Dictionary)\n",
    "    Dict=dict(sorted(Dict.items(),key=lambda x:x[1][2],reverse=False))\n",
    "    #Background Bundle\n",
    "    bkgBundle=list(Dict.keys())[:-1]\n",
    "    print(bkgBundle)\n",
    "    \n",
    "    rebinning=rebin\n",
    "    #DataHisto\n",
    "    dataHisto=Dict['data'][-1]\n",
    "    dataHisto.Rebin(rebinning)\n",
    "    plotsetting.SetOverflowBin(dataHisto)\n",
    "        \n",
    "    ##Legend Settings\n",
    "    legend = ROOT.TLegend(0.99, 0.45, 0.80,0.86) \n",
    "    plotsetting.SetLegendStyle(legend)\n",
    "    legend.AddEntry(dataHisto,\"Data [\"+plotsetting.Count(dataHisto)+\"]\",\"ep\")\n",
    "    for imc,mc in reversed(list(enumerate(bkgBundle))):\n",
    "        histoname=Dict[mc][0]\n",
    "        color=Dict[mc][3]\n",
    "        histo=Dict[mc][-1]    \n",
    "        legend.AddEntry(histo,histoname+\"[\"+Count(histo)+\"]\",\"lf\")\n",
    "        \n",
    "    ##\n",
    "    ##Stacking(ALL MC Backgrounds)\n",
    "    stack=THStack()\n",
    "    ratioHisto=dataHisto.Clone()\n",
    "    h_Allbkg=Dict['ST'][-1].Clone()\n",
    "    h_Allbkg.Rebin(rebin)\n",
    "    for imc,mc in enumerate(bkgBundle):\n",
    "        histoname=Dict[mc][0]\n",
    "        color=Dict[mc][3]\n",
    "        histo=Dict[mc][-1]    \n",
    "        ##SetStyle\n",
    "        histo.SetLineWidth(0)                                                                                                       \n",
    "        histo.SetLineColor(1)                                                                                                       \n",
    "        histo.SetFillColor(color)                                                                                             \n",
    "        histo.Rebin(rebinning)\n",
    "        plotsetting.SetOverflowBin(histo)\n",
    "        stack.Add(histo)                                                                                                            \n",
    "        #Denominotor for ratioPlot\n",
    "        if(imc>0): h_Allbkg.Add(histo)\n",
    "    ratioHisto.Divide(h_Allbkg)\n",
    "    \n",
    "    \n",
    "    obs=float(Count(dataHisto))\n",
    "    exp=float(Count(h_Allbkg))\n",
    "    ##Legend Settings\n",
    "    legend = ROOT.TLegend(0.99, 0.45, 0.80,0.86) \n",
    "    plotsetting.SetLegendStyle(legend)\n",
    "    legend.AddEntry(dataHisto,\"Data [\"+plotsetting.Count(dataHisto)+\"]\",\"ep\")\n",
    "    for imc,mc in reversed(list(enumerate(bkgBundle))):\n",
    "        histoname=Dict[mc][0]\n",
    "        color=Dict[mc][3]\n",
    "        histo=Dict[mc][-1]    \n",
    "        legend.AddEntry(histo,histoname+\"[\"+Count(histo)+\"]\",\"lf\")\n",
    "    ##Obs/Exp Legend\n",
    "    ratioleg = ROOT.TLegend(0.99, 0.90, 0.81,0.87)\n",
    "    plotsetting.SetLegendStyle(ratioleg)\n",
    "    ratioleg.SetTextSize(0.03)\n",
    "    ratioleg.SetHeader(\"obs/exp=\"+(str(obs/exp)[:5])) \n",
    "    \n",
    "    ##Plotting\n",
    "    canvas=TCanvas(\"c\",\"\",700,600)                                                                                             \n",
    "    pad=plotsetting.CreatePad(\"pad\",0,1.0)                                                                                          \n",
    "    #pad.SetLogy(0)\n",
    "    pad.Draw()                                                                                                                      \n",
    "\n",
    "    #RatioPad                                                                                                                       \n",
    "    if(plotsetting.PlotRatioPad==True):                                                                                                         \n",
    "        ratioPad = plotsetting.CreateRatioPad('ratioPad',0,0.25)                                                                    \n",
    "        ratioPad.SetGrid(1)                                                                                                         \n",
    "        ratioPad.Draw()                                                                                                             \n",
    "\n",
    "    pad.cd()                                                                                                                        \n",
    "    ##MainPadStyle \n",
    "    pad.SetFillStyle(4000)\n",
    "    plotsetting.SetHistoStyle(dataHisto,xlabel=Plotname)\n",
    "    dataHisto.GetYaxis().SetRangeUser(0.1,1e7)\n",
    "    ##Draw                                                                                                                          \n",
    "    dataHisto.Draw(\"ep\")                                                                                                            \n",
    "    stack.Draw(\"HIST SAME\")                                                                                                         \n",
    "    dataHisto.Draw(\"ep same\")                                                                                                       \n",
    "    legend.Draw(\"SAME\")\n",
    "    ratioleg.Draw(\"SAME\")\n",
    "    plotsetting.CMSLabel(pad)\n",
    "    pad.SetTickx(1)\n",
    "    pad.Update()\n",
    "    ##RatioPadDraw                                                                                                                  \n",
    "    if(plotsetting.PlotRatioPad==True):                                                                                                         \n",
    "        ratioPad.cd()                                                                                                               \n",
    "        plotsetting.SetRatioHistoStyle(ratioHisto,xlabel=plotname)                                                              \n",
    "        ratioHisto.Draw('ep')\n",
    "\n",
    "    #Extra Text\n",
    "    pad.cd()\n",
    "    plotsetting.DrawText(0.60,0.84,'2018 WJets CR')    \n",
    "    \n",
    "    canvas.Draw()\n",
    "    \n",
    "    return canvas,stack,legend,ratioHisto,ratioleg"
   ]
  },
  {
   "cell_type": "code",
   "execution_count": 40,
   "metadata": {},
   "outputs": [
    {
     "name": "stdout",
     "output_type": "stream",
     "text": [
      "['ST', 'tW', 'WW2Q', 'zjets', 'ttjets', 'QCD', 'wjets']\n",
      "    \n",
      "REGION A\n"
     ]
    },
    {
     "data": {
      "image/png": "[encoded data removed]",
      "text/plain": [
       "<IPython.core.display.Image object>"
      ]
     },
     "metadata": {},
     "output_type": "display_data"
    }
   ],
   "source": [
    "canvas,stack,legend,ratioHisto,ratioleg=PlotMaker(Region_A,'dijetmass',100)\n",
    "print(\"    \")\n",
    "print(\"REGION A\")"
   ]
  },
  {
   "cell_type": "code",
   "execution_count": 41,
   "metadata": {},
   "outputs": [
    {
     "name": "stdout",
     "output_type": "stream",
     "text": [
      "['ST', 'tW', 'WW2Q', 'zjets', 'ttjets', 'QCD', 'wjets']\n",
      "    \n",
      "REGION A AFTER ABCD\n"
     ]
    },
    {
     "name": "stderr",
     "output_type": "stream",
     "text": [
      "Warning in <TCanvas::Constructor>: Deleting canvas with same name: c\n"
     ]
    },
    {
     "data": {
      "image/png": "[encoded data removed]",
      "text/plain": [
       "<IPython.core.display.Image object>"
      ]
     },
     "metadata": {},
     "output_type": "display_data"
    }
   ],
   "source": [
    "canvas,stack,legend,ratioHisto,ratioleg= PlotMaker(Region_A_PostABCD,'dijetmass',100)\n",
    "print(\"    \")\n",
    "print(\"REGION A AFTER ABCD\")"
   ]
  },
  {
   "cell_type": "code",
   "execution_count": 42,
   "metadata": {},
   "outputs": [
    {
     "name": "stdout",
     "output_type": "stream",
     "text": [
      "['tW', 'ST', 'WW2Q', 'ttjets', 'zjets', 'QCD', 'wjets']\n"
     ]
    },
    {
     "data": {
      "text/plain": [
       "(<cppyy.gbl.TCanvas object at 0x84c88e0>,\n",
       " <cppyy.gbl.THStack object at 0x81b65c0>,\n",
       " <cppyy.gbl.TLegend object at 0x9445ab0>,\n",
       " <cppyy.gbl.TH1F object at 0x94497a0>,\n",
       " <cppyy.gbl.TLegend object at 0x940a580>)"
      ]
     },
     "execution_count": 42,
     "metadata": {},
     "output_type": "execute_result"
    },
    {
     "name": "stderr",
     "output_type": "stream",
     "text": [
      "Warning in <TCanvas::Constructor>: Deleting canvas with same name: c\n"
     ]
    },
    {
     "data": {
      "image/png": "[encoded data removed]",
      "text/plain": [
       "<IPython.core.display.Image object>"
      ]
     },
     "metadata": {},
     "output_type": "display_data"
    }
   ],
   "source": [
    "PlotMaker(Region_B,'dijetmass',50)"
   ]
  },
  {
   "cell_type": "code",
   "execution_count": 43,
   "metadata": {
    "scrolled": false
   },
   "outputs": [
    {
     "name": "stdout",
     "output_type": "stream",
     "text": [
      "['ST', 'tW', 'WW2Q', 'zjets', 'ttjets', 'QCD', 'wjets']\n"
     ]
    },
    {
     "data": {
      "text/plain": [
       "(<cppyy.gbl.TCanvas object at 0x905f5e0>,\n",
       " <cppyy.gbl.THStack object at 0x94d3060>,\n",
       " <cppyy.gbl.TLegend object at 0x93e05e0>,\n",
       " <cppyy.gbl.TH1F object at 0x94d30d0>,\n",
       " <cppyy.gbl.TLegend object at 0x940a0e0>)"
      ]
     },
     "execution_count": 43,
     "metadata": {},
     "output_type": "execute_result"
    },
    {
     "name": "stderr",
     "output_type": "stream",
     "text": [
      "Warning in <TCanvas::Constructor>: Deleting canvas with same name: c\n"
     ]
    },
    {
     "data": {
      "image/png": "[encoded data removed]",
      "text/plain": [
       "<IPython.core.display.Image object>"
      ]
     },
     "metadata": {},
     "output_type": "display_data"
    }
   ],
   "source": [
    "PlotMaker(Region_C,'dijetmass',25)"
   ]
  },
  {
   "cell_type": "code",
   "execution_count": 44,
   "metadata": {},
   "outputs": [
    {
     "name": "stdout",
     "output_type": "stream",
     "text": [
      "['tW', 'ST', 'WW2Q', 'ttjets', 'zjets', 'QCD', 'wjets']\n"
     ]
    },
    {
     "data": {
      "text/plain": [
       "(<cppyy.gbl.TCanvas object at 0x84c88e0>,\n",
       " <cppyy.gbl.THStack object at 0x9248b90>,\n",
       " <cppyy.gbl.TLegend object at 0x93e2800>,\n",
       " <cppyy.gbl.TH1F object at 0x94ec250>,\n",
       " <cppyy.gbl.TLegend object at 0x93d9600>)"
      ]
     },
     "execution_count": 44,
     "metadata": {},
     "output_type": "execute_result"
    },
    {
     "name": "stderr",
     "output_type": "stream",
     "text": [
      "Warning in <TCanvas::Constructor>: Deleting canvas with same name: c\n"
     ]
    },
    {
     "data": {
      "image/png": "[encoded data removed]",
      "text/plain": [
       "<IPython.core.display.Image object>"
      ]
     },
     "metadata": {},
     "output_type": "display_data"
    }
   ],
   "source": [
    "PlotMaker(Region_D,'dijetmass',50)"
   ]
  },
  {
   "cell_type": "code",
   "execution_count": null,
   "metadata": {},
   "outputs": [],
   "source": []
  },
  {
   "cell_type": "code",
   "execution_count": null,
   "metadata": {},
   "outputs": [],
   "source": []
  },
  {
   "cell_type": "code",
   "execution_count": null,
   "metadata": {},
   "outputs": [],
   "source": []
  },
  {
   "cell_type": "markdown",
   "metadata": {},
   "source": [
    "Let's take the wjet SHAPE from data and Yield also as previously described"
   ]
  },
  {
   "cell_type": "code",
   "execution_count": 45,
   "metadata": {},
   "outputs": [
    {
     "data": {
      "text/plain": [
       "['ST', 'tW', 'WW2Q', 'ttjets', 'zjets', 'QCD', 'wjets']"
      ]
     },
     "execution_count": 45,
     "metadata": {},
     "output_type": "execute_result"
    }
   ],
   "source": [
    "bkgBundle"
   ]
  },
  {
   "cell_type": "code",
   "execution_count": 46,
   "metadata": {},
   "outputs": [],
   "source": [
    "dataHisto=Region_C['data'][-1]\n",
    "wjetShapeHisto=dataHisto.Clone()\n",
    "for ibkg,bkg in enumerate(bkgBundle):\n",
    "    hist=Region_C[bkg][-1]\n",
    "    if(bkg!='wjets'):\n",
    "        wjetShapeHisto.Add(hist,-1)"
   ]
  },
  {
   "cell_type": "code",
   "execution_count": 47,
   "metadata": {},
   "outputs": [
    {
     "name": "stdout",
     "output_type": "stream",
     "text": [
      "Wjets events in the histogram drawn from C= 199869.730\n",
      "   \n",
      "Wjets events After ABCD= 459667.955\n",
      "   \n",
      "Scaling Factor From Region C for wjet shape 2.2998\n"
     ]
    }
   ],
   "source": [
    "print(\"Wjets events in the histogram drawn from C=\",Count(wjetShapeHisto))\n",
    "print(\"   \")\n",
    "print('Wjets events After ABCD=',Count(Region_A_PostABCD['wjets'][-1]))\n",
    "\n",
    "ScalingFactorFromShapeC = float(\"{:.4f}\".format(float(Count(Region_A_PostABCD['wjets'][-1]))/float(Count(wjetShapeHisto))))\n",
    "print(\"   \")\n",
    "print(\"Scaling Factor From Region C for wjet shape\",ScalingFactorFromShapeC)"
   ]
  },
  {
   "cell_type": "code",
   "execution_count": 48,
   "metadata": {},
   "outputs": [],
   "source": [
    "Region_A_ShapeFromC=copy.deepcopy(Region_A)\n",
    "Region_A_ShapeFromC['wjets'][-1]=wjetShapeHisto\n",
    "Region_A_ShapeFromC['wjets'][-1].Scale(float(ScalingFactorFromShapeC))"
   ]
  },
  {
   "cell_type": "code",
   "execution_count": 49,
   "metadata": {},
   "outputs": [
    {
     "data": {
      "text/plain": [
       "'459660.407'"
      ]
     },
     "execution_count": 49,
     "metadata": {},
     "output_type": "execute_result"
    }
   ],
   "source": [
    "Count(Region_A_ShapeFromC['wjets'][-1])"
   ]
  },
  {
   "cell_type": "code",
   "execution_count": 50,
   "metadata": {},
   "outputs": [
    {
     "name": "stdout",
     "output_type": "stream",
     "text": [
      "['ST', 'tW', 'WW2Q', 'zjets', 'ttjets', 'QCD', 'wjets']\n"
     ]
    },
    {
     "data": {
      "text/plain": [
       "(<cppyy.gbl.TCanvas object at 0x905f5e0>,\n",
       " <cppyy.gbl.THStack object at 0x94f6b30>,\n",
       " <cppyy.gbl.TLegend object at 0x9513b00>,\n",
       " <cppyy.gbl.TH1F object at 0x94f6ba0>,\n",
       " <cppyy.gbl.TLegend object at 0x8746300>)"
      ]
     },
     "execution_count": 50,
     "metadata": {},
     "output_type": "execute_result"
    },
    {
     "name": "stderr",
     "output_type": "stream",
     "text": [
      "Warning in <TCanvas::Constructor>: Deleting canvas with same name: c\n"
     ]
    },
    {
     "data": {
      "image/png": "[encoded data removed]",
      "text/plain": [
       "<IPython.core.display.Image object>"
      ]
     },
     "metadata": {},
     "output_type": "display_data"
    }
   ],
   "source": [
    "PlotMaker(Region_A_ShapeFromC,'dijetmass',50)"
   ]
  },
  {
   "cell_type": "code",
   "execution_count": 51,
   "metadata": {},
   "outputs": [
    {
     "name": "stdout",
     "output_type": "stream",
     "text": [
      "['ST', 'tW', 'WW2Q', 'zjets', 'ttjets', 'QCD', 'wjets']\n"
     ]
    },
    {
     "data": {
      "text/plain": [
       "(<cppyy.gbl.TCanvas object at 0x84c88e0>,\n",
       " <cppyy.gbl.THStack object at 0x9520e80>,\n",
       " <cppyy.gbl.TLegend object at 0x94fcd20>,\n",
       " <cppyy.gbl.TH1F object at 0x9530590>,\n",
       " <cppyy.gbl.TLegend object at 0x94e3dc0>)"
      ]
     },
     "execution_count": 51,
     "metadata": {},
     "output_type": "execute_result"
    },
    {
     "name": "stderr",
     "output_type": "stream",
     "text": [
      "Warning in <TCanvas::Constructor>: Deleting canvas with same name: c\n"
     ]
    },
    {
     "data": {
      "image/png": "[encoded data removed]",
      "text/plain": [
       "<IPython.core.display.Image object>"
      ]
     },
     "metadata": {},
     "output_type": "display_data"
    }
   ],
   "source": [
    "PlotMaker(Region_A_PostABCD,'dijetmass',50)"
   ]
  },
  {
   "cell_type": "code",
   "execution_count": 52,
   "metadata": {},
   "outputs": [
    {
     "name": "stdout",
     "output_type": "stream",
     "text": [
      "['ST', 'tW', 'WW2Q', 'zjets', 'ttjets', 'QCD', 'wjets']\n"
     ]
    },
    {
     "data": {
      "text/plain": [
       "(<cppyy.gbl.TCanvas object at 0x905f5e0>,\n",
       " <cppyy.gbl.THStack object at 0x94f6440>,\n",
       " <cppyy.gbl.TLegend object at 0x951b110>,\n",
       " <cppyy.gbl.TH1F object at 0x952ea60>,\n",
       " <cppyy.gbl.TLegend object at 0x915c4f0>)"
      ]
     },
     "execution_count": 52,
     "metadata": {},
     "output_type": "execute_result"
    },
    {
     "name": "stderr",
     "output_type": "stream",
     "text": [
      "Warning in <TCanvas::Constructor>: Deleting canvas with same name: c\n"
     ]
    },
    {
     "data": {
      "image/png": "[encoded data removed]",
      "text/plain": [
       "<IPython.core.display.Image object>"
      ]
     },
     "metadata": {},
     "output_type": "display_data"
    }
   ],
   "source": [
    "PlotMaker(Region_A,'dijetmass',50)"
   ]
  },
  {
   "cell_type": "code",
   "execution_count": null,
   "metadata": {},
   "outputs": [],
   "source": []
  }
 ],
 "metadata": {
  "kernelspec": {
   "display_name": "Python 3",
   "language": "python",
   "name": "python3"
  },
  "language_info": {
   "codemirror_mode": {
    "name": "ipython",
    "version": 3
   },
   "file_extension": ".py",
   "mimetype": "text/x-python",
   "name": "python",
   "nbconvert_exporter": "python",
   "pygments_lexer": "ipython3",
   "version": "3.6.9"
  }
 },
 "nbformat": 4,
 "nbformat_minor": 4
}
