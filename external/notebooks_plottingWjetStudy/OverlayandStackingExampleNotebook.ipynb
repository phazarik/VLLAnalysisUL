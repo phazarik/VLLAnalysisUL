{
 "cells": [
  {
   "cell_type": "code",
   "execution_count": 1,
   "metadata": {},
   "outputs": [
    {
     "name": "stdout",
     "output_type": "stream",
     "text": [
      "Welcome to JupyROOT 6.24/02\n"
     ]
    }
   ],
   "source": [
    "import ROOT\n",
    "from ROOT import *"
   ]
  },
  {
   "cell_type": "markdown",
   "metadata": {},
   "source": [
    " Get the data and background histogram files\n",
    " \n",
    " Make a dictionary contains of data and MC histo files for later"
   ]
  },
  {
   "cell_type": "code",
   "execution_count": 2,
   "metadata": {},
   "outputs": [
    {
     "data": {
      "text/plain": [
       "{'data': <cppyy.gbl.TFile object at 0x46ed6b0>,\n",
       " 'wjets': <cppyy.gbl.TFile object at 0x3a2ab90>,\n",
       " 'zjets': <cppyy.gbl.TFile object at 0x3a2b2d0>,\n",
       " 'ttjets': <cppyy.gbl.TFile object at 0x3b83fd0>,\n",
       " 'tW': <cppyy.gbl.TFile object at 0x183e2f0>,\n",
       " 'ST': <cppyy.gbl.TFile object at 0x18186c0>,\n",
       " 'WW2Q': <cppyy.gbl.TFile object at 0x17daf70>,\n",
       " 'QCD': <cppyy.gbl.TFile object at 0x7ec5b70>}"
      ]
     },
     "execution_count": 2,
     "metadata": {},
     "output_type": "execute_result"
    }
   ],
   "source": [
    "inputfilepath='../inputfiles/'\n",
    "\n",
    "WorkdayTag= '_Sep6_v0'\n",
    "\n",
    "AnalysisName= 'VLL2018_'\n",
    "\n",
    "dataAndMCbundle=['Data','wjets','zjets','ttjets','tW','STtchannelTop','WW2Q','QCDMultijet']\n",
    "FileName=['data', 'wjets', 'zjets', 'ttjets', 'tW', 'ST', 'WW2Q','QCD']\n",
    "FilesDict={}\n",
    "for ifile,file in enumerate(dataAndMCbundle):\n",
    "    file_ifile=TFile.Open(inputfilepath+AnalysisName+dataAndMCbundle[ifile]+WorkdayTag+'.root','READ')\n",
    "    FilesDict[FileName[ifile]]=file_ifile\n",
    "        \n",
    "FilesDict"
   ]
  },
  {
   "cell_type": "code",
   "execution_count": 3,
   "metadata": {},
   "outputs": [],
   "source": [
    "CrossSectionDB={\n",
    "    'data':1,\n",
    "    'wjets':50380,\n",
    "    'zjets':5765,\n",
    "    'ttjets':365.34,\n",
    "    'tW':34.91,\n",
    "    'ST':136.02,\n",
    "    'WW2Q':45.68,\n",
    "    'QCD':239400    \n",
    "}\n",
    "\n",
    "OverlayColorScheme={\n",
    "    'data':kBlack,\n",
    "    'wjets':kGray+1,\n",
    "    'zjets':kRed-9,\n",
    "    'ttjets':kCyan-10,\n",
    "    'tW':kBlue-9,\n",
    "    'ST':kBlue-7,\n",
    "    'WW2Q':kGreen-4,\n",
    "    'QCD':kYellow    \n",
    "}\n",
    "\n",
    "StackingColorScheme={\n",
    "    'data':kBlack,\n",
    "    'wjets':kGray+1,\n",
    "    'zjets':kRed-9,\n",
    "    'ttjets':kCyan-10,\n",
    "    'tW':kBlue-9,\n",
    "    'ST':kBlue-5,\n",
    "    'WW2Q':kGreen-10,\n",
    "    'QCD':kYellow-10    \n",
    "}                 "
   ]
  },
  {
   "cell_type": "markdown",
   "metadata": {},
   "source": [
    "Lets take one variable for plotting\n",
    " - **Type:**  \" \",\"_highMVA\",\"_regA\",\"_regB\",\"_regC\",\"_regD\"\n",
    " "
   ]
  },
  {
   "cell_type": "code",
   "execution_count": 4,
   "metadata": {},
   "outputs": [
    {
     "name": "stdout",
     "output_type": "stream",
     "text": [
      "We want to plot mtjet0_l2j at Basic WjetsCR\n"
     ]
    }
   ],
   "source": [
    "var='mtjet0'\n",
    "Type=[\"\",\"_highMVA\",\"_regA\",\"_regB\",\"_regC\",\"_regD\"]\n",
    "Description=['Basic WjetsCR','High MVA region','Region A','Region B','Region C','Region D']\n",
    "Plotname = var+Type[0]+'_l2j'\n",
    "print('We want to plot '+ Plotname + ' at '+ Description[0])"
   ]
  },
  {
   "cell_type": "code",
   "execution_count": 5,
   "metadata": {},
   "outputs": [
    {
     "data": {
      "text/plain": [
       "<cppyy.gbl.TH1F object at 0x78b7010>"
      ]
     },
     "execution_count": 5,
     "metadata": {},
     "output_type": "execute_result"
    }
   ],
   "source": [
    "FilesDict['data'].Get(Plotname)"
   ]
  },
  {
   "cell_type": "code",
   "execution_count": 6,
   "metadata": {},
   "outputs": [],
   "source": [
    "#Count Events in histogram\n",
    "def Count(histo):                                                               \n",
    "    n_count=\"{:.3f}\".format(histo.Integral())                                   \n",
    "    return str(n_count) "
   ]
  },
  {
   "cell_type": "markdown",
   "metadata": {},
   "source": [
    "Let get the corresponding histogram from their TFiles"
   ]
  },
  {
   "cell_type": "code",
   "execution_count": 7,
   "metadata": {},
   "outputs": [],
   "source": [
    "HistoDict={}\n",
    "histogram=[]\n",
    "dataLumi=59.7*1000 #in pb\n",
    "\n",
    "for index,(filekey,file) in enumerate(FilesDict.items()):\n",
    "    #print(filekey,file)\n",
    "    histo= file.Get(Plotname)\n",
    "    histo.SetDirectory(0)\n",
    "    histoevent=float(Count(histo))\n",
    "    \n",
    "    #LumiCorr-------------------------------\n",
    "    totEvent=file.nEvents.GetBinContent(2)\n",
    "    Xsec=CrossSectionDB[filekey]\n",
    "    sampleLumi=totEvent/Xsec\n",
    "    if(filekey!='data'): lumi_corr=dataLumi/sampleLumi\n",
    "    else: lumi_corr=1\n",
    "    #print(filekey,totEvent,Xsec,sampleLumi,lumi_corr)    \n",
    "    histo.Scale(lumi_corr)\n",
    "    histoeventAfterCorr=float(Count(histo))\n",
    "    #---------------------------------------\n",
    "    histogram.append([filekey,histoevent,histoeventAfterCorr,OverlayColorScheme[filekey],histo])\n",
    "    HistoDict[filekey]=[filekey,histoevent,histoeventAfterCorr,OverlayColorScheme[filekey],histo]\n",
    "    "
   ]
  },
  {
   "cell_type": "code",
   "execution_count": 8,
   "metadata": {},
   "outputs": [
    {
     "data": {
      "text/plain": [
       "[['data', 2200913.0, 2200913.0, 1, <cppyy.gbl.TH1F object at 0x78b7010>],\n",
       " ['wjets', 24415.0, 1279260.417, 921, <cppyy.gbl.TH1F object at 0x807d130>],\n",
       " ['zjets', 32652.0, 112696.473, 623, <cppyy.gbl.TH1F object at 0x8072330>],\n",
       " ['ttjets', 417770.0, 99024.552, 422, <cppyy.gbl.TH1F object at 0x8078010>],\n",
       " ['tW', 45837.0, 9953.129, 591, <cppyy.gbl.TH1F object at 0x808bdd0>],\n",
       " ['ST', 7040.0, 4095.597, 593, <cppyy.gbl.TH1F object at 0x8066720>],\n",
       " ['WW2Q', 41762.0, 24318.957, 412, <cppyy.gbl.TH1F object at 0x8072820>],\n",
       " ['QCD', 1018.0, 656405.56, 400, <cppyy.gbl.TH1F object at 0x4fa8b60>]]"
      ]
     },
     "execution_count": 8,
     "metadata": {},
     "output_type": "execute_result"
    }
   ],
   "source": [
    "histogram"
   ]
  },
  {
   "cell_type": "code",
   "execution_count": 9,
   "metadata": {},
   "outputs": [],
   "source": [
    "def SortDict(dic,opt):\n",
    "    return dict(sorted(dic.items(),key=lambda x:x[1][1],reverse=opt))    "
   ]
  },
  {
   "cell_type": "code",
   "execution_count": 10,
   "metadata": {},
   "outputs": [],
   "source": [
    "HistoDict=SortDict(HistoDict,True) ## Sort the dict in terms of no of events\n",
    "                                   ## Sort(dic,True)==Descending order \n",
    "                                   ## Sort(dic,False)==Ascending order"
   ]
  },
  {
   "cell_type": "code",
   "execution_count": 11,
   "metadata": {},
   "outputs": [
    {
     "data": {
      "text/plain": [
       "dict_keys(['data', 'ttjets', 'tW', 'WW2Q', 'zjets', 'wjets', 'ST', 'QCD'])"
      ]
     },
     "execution_count": 11,
     "metadata": {},
     "output_type": "execute_result"
    }
   ],
   "source": [
    "HistoDict.keys()"
   ]
  },
  {
   "cell_type": "markdown",
   "metadata": {},
   "source": [
    "Make a copy of this dictionary to plot overlay histogram"
   ]
  },
  {
   "cell_type": "code",
   "execution_count": 12,
   "metadata": {},
   "outputs": [],
   "source": [
    "import copy\n",
    "HistoDictForOverlay=copy.deepcopy(HistoDict)"
   ]
  },
  {
   "cell_type": "code",
   "execution_count": null,
   "metadata": {},
   "outputs": [],
   "source": []
  },
  {
   "cell_type": "code",
   "execution_count": null,
   "metadata": {},
   "outputs": [],
   "source": []
  },
  {
   "cell_type": "code",
   "execution_count": null,
   "metadata": {},
   "outputs": [],
   "source": []
  },
  {
   "cell_type": "code",
   "execution_count": null,
   "metadata": {},
   "outputs": [],
   "source": []
  },
  {
   "cell_type": "markdown",
   "metadata": {},
   "source": [
    "## Lets overlay them for shape study"
   ]
  },
  {
   "cell_type": "code",
   "execution_count": 13,
   "metadata": {},
   "outputs": [],
   "source": [
    "import plot_settings as plotsetting\n",
    "\n",
    "plotsetting.PlotRatioPad=False\n",
    "plotsetting.year=2018                                                                                                           \n",
    "plotsetting.publicationStyle=True                                                                                           "
   ]
  },
  {
   "cell_type": "code",
   "execution_count": 14,
   "metadata": {},
   "outputs": [],
   "source": [
    "#bkgBundle=['wjets', 'zjets', 'ttjets', 'tW', 'ST', 'WW2Q','QCD']\n",
    "bkgBundle=list(HistoDictForOverlay.keys())[1:]"
   ]
  },
  {
   "cell_type": "code",
   "execution_count": 15,
   "metadata": {
    "scrolled": false
   },
   "outputs": [
    {
     "name": "stdout",
     "output_type": "stream",
     "text": [
      "0.23761878907680511\n",
      "0.24936187267303467\n",
      "0.2492217868566513\n",
      "0.4444444477558136\n",
      "0.3136596381664276\n",
      "0.29673296213150024\n",
      "0.5294695496559143\n"
     ]
    },
    {
     "data": {
      "image/png": "[encoded data removed]",
      "text/plain": [
       "<IPython.core.display.Image object>"
      ]
     },
     "metadata": {},
     "output_type": "display_data"
    }
   ],
   "source": [
    "canvas=TCanvas(\"canvas\",\"\",700,600)\n",
    "mainpad=plotsetting.CreatePad(\"mainpad\",0,1)\n",
    "mainpad.SetLogy(0)\n",
    "mainpad.Draw()\n",
    "mainpad.cd()\n",
    "#Legend\n",
    "legend=TLegend(0.60,0.55,0.90,0.82)\n",
    "plotsetting.SetLegendStyle(legend)\n",
    "for imc,mc in enumerate(bkgBundle):\n",
    "    histoname=HistoDictForOverlay[mc][0]\n",
    "    color=HistoDictForOverlay[mc][3]\n",
    "    histo=HistoDictForOverlay[mc][-1]\n",
    "    histo.Draw(\"HIST SAME\")\n",
    "    histo.Rebin(50)\n",
    "    histo.Scale(1/float(Count(histo)))\n",
    "    plotsetting.SetOverlayHistoStyle(histo,color,2,\"HT (GeV)\")\n",
    "    #histo.SetLineColor(color)\n",
    "    #histo.SetLineWidth(2)\n",
    "    maxbin=histo.GetMaximumBin()\n",
    "    maxheight=histo.GetBinContent(maxbin)\n",
    "    histo.GetYaxis().SetRangeUser(0.001,(maxheight*2.6))\n",
    "    #histo.GetYaxis().SetTitle('Normalized Count')\n",
    "    \n",
    "    print(histo.GetBinContent(maxbin))\n",
    "    #histo.SetMarkerStyle(20)\n",
    "    legend.AddEntry(histo,histoname,'l')\n",
    "    legend.Draw()\n",
    "\n",
    "    \n",
    "canvas.Draw()"
   ]
  },
  {
   "cell_type": "code",
   "execution_count": null,
   "metadata": {},
   "outputs": [],
   "source": []
  },
  {
   "cell_type": "code",
   "execution_count": null,
   "metadata": {},
   "outputs": [],
   "source": []
  },
  {
   "cell_type": "code",
   "execution_count": null,
   "metadata": {},
   "outputs": [],
   "source": []
  },
  {
   "cell_type": "code",
   "execution_count": null,
   "metadata": {},
   "outputs": [],
   "source": []
  },
  {
   "cell_type": "markdown",
   "metadata": {},
   "source": [
    "## Let's do Stack Histogramming and Plot data"
   ]
  },
  {
   "cell_type": "markdown",
   "metadata": {},
   "source": [
    "Just check the Dictionary to see all component is present"
   ]
  },
  {
   "cell_type": "code",
   "execution_count": 16,
   "metadata": {},
   "outputs": [
    {
     "data": {
      "text/plain": [
       "dict_values([['data', 2200913.0, 2200913.0, 1, <cppyy.gbl.TH1F object at 0x78b7010>], ['ttjets', 417770.0, 99024.552, 422, <cppyy.gbl.TH1F object at 0x8078010>], ['tW', 45837.0, 9953.129, 591, <cppyy.gbl.TH1F object at 0x808bdd0>], ['WW2Q', 41762.0, 24318.957, 412, <cppyy.gbl.TH1F object at 0x8072820>], ['zjets', 32652.0, 112696.473, 623, <cppyy.gbl.TH1F object at 0x8072330>], ['wjets', 24415.0, 1279260.417, 921, <cppyy.gbl.TH1F object at 0x807d130>], ['ST', 7040.0, 4095.597, 593, <cppyy.gbl.TH1F object at 0x8066720>], ['QCD', 1018.0, 656405.56, 400, <cppyy.gbl.TH1F object at 0x4fa8b60>]])"
      ]
     },
     "execution_count": 16,
     "metadata": {},
     "output_type": "execute_result"
    }
   ],
   "source": [
    "HistoDict.values()"
   ]
  },
  {
   "cell_type": "code",
   "execution_count": 17,
   "metadata": {},
   "outputs": [
    {
     "name": "stdout",
     "output_type": "stream",
     "text": [
      "Wjets=  1279260.417\n"
     ]
    }
   ],
   "source": [
    "##Test\n",
    "#print(Count(HistoDict['wjets'][-1]))\n",
    "if(float(Count(HistoDict['wjets'][-1]))<10):\n",
    "    print(\"**************\")\n",
    "    print(\"Caution!!!!!!!!!!!!!!!! The histograms in dictionary is already normalized to 1\")\n",
    "    print(\"Please make a deep copy of the master dictionary and use them\")\n",
    "    print(\"**************\")\n",
    "else:\n",
    "    print(\"Wjets= \",Count(HistoDict['wjets'][-1]))"
   ]
  },
  {
   "cell_type": "code",
   "execution_count": 18,
   "metadata": {},
   "outputs": [
    {
     "name": "stdout",
     "output_type": "stream",
     "text": [
      "         Summary Report                \n",
      "_________________________________________\n",
      "   \n",
      "  Name         No of Events \n",
      "--------    -------------------\n",
      " ST          4095.597\n",
      " tW          9953.129\n",
      " WW2Q          24318.957\n",
      " ttjets          99024.552\n",
      " zjets          112696.473\n",
      " QCD          656405.56\n",
      " wjets          1279260.417\n",
      " data          2200913.0\n",
      "_________________________________________\n",
      "    \n",
      "obs=2200913.0, exp=2185754.685\n",
      "obs/exp= 1.006\n",
      "_________________________________________\n",
      "                                         \n",
      "Background Bundle= ['ST', 'tW', 'WW2Q', 'ttjets', 'zjets', 'QCD', 'wjets']\n"
     ]
    }
   ],
   "source": [
    "###Sorting based on lumi corrected weight\n",
    "HistoDict=dict(sorted(HistoDict.items(),key=lambda x:x[1][2],reverse=False))\n",
    "print(\"         Summary Report                \")\n",
    "print(\"_________________________________________\")\n",
    "print(\"   \")\n",
    "print( \"  Name\"+\"     \"+\"    No of Events \")\n",
    "print(\"--------\"+\"    \"+\"-------------------\")\n",
    "exp=0\n",
    "for key in HistoDict.keys():\n",
    "    if(key!='data'): exp=exp+HistoDict[key][2]\n",
    "    print(\" \"+ key+\"          \" +str(HistoDict[key][2]))\n",
    "print(\"_________________________________________\")\n",
    "print(\"    \")\n",
    "print(\"obs=\"+str(HistoDict['data'][2])+\", \"+\"exp=\"+str(exp))\n",
    "print(\"obs/exp=\",str((HistoDict['data'][2]/exp))[:5])\n",
    "print(\"_________________________________________\")\n",
    "print(\"                                         \")\n",
    "obs=HistoDict['data'][2]\n",
    "bkgBundle=list(HistoDict.keys())[:-1]\n",
    "print(\"Background Bundle=\",bkgBundle)    "
   ]
  },
  {
   "cell_type": "code",
   "execution_count": null,
   "metadata": {},
   "outputs": [],
   "source": []
  },
  {
   "cell_type": "markdown",
   "metadata": {},
   "source": [
    "Now Lets make the plot"
   ]
  },
  {
   "cell_type": "code",
   "execution_count": 19,
   "metadata": {},
   "outputs": [],
   "source": [
    "rebin=50   ###BinWidth"
   ]
  },
  {
   "cell_type": "code",
   "execution_count": 20,
   "metadata": {},
   "outputs": [],
   "source": [
    "dataHisto=HistoDict['data'][-1]\n",
    "dataHisto.Rebin(rebin)\n",
    "plotsetting.SetOverflowBin(dataHisto)"
   ]
  },
  {
   "cell_type": "code",
   "execution_count": 21,
   "metadata": {},
   "outputs": [
    {
     "data": {
      "text/plain": [
       "True"
      ]
     },
     "execution_count": 21,
     "metadata": {},
     "output_type": "execute_result"
    }
   ],
   "source": [
    "##Stacking(ALL MC Backgrounds)\n",
    "stack=THStack()\n",
    "ratioHisto=dataHisto.Clone()\n",
    "h_Allbkg=HistoDict['ST'][-1].Clone()\n",
    "h_Allbkg.Rebin(rebin)\n",
    "for imc,mc in enumerate(bkgBundle):\n",
    "    histoname=HistoDict[mc][0]\n",
    "    color=HistoDict[mc][3]\n",
    "    histo=HistoDict[mc][-1]    \n",
    "    ##SetStyle\n",
    "    histo.SetLineWidth(0)                                                                                                       \n",
    "    histo.SetLineColor(1)                                                                                                       \n",
    "    histo.SetFillColor(color)                                                                                             \n",
    "    histo.Rebin(rebin)\n",
    "    plotsetting.SetOverflowBin(histo)\n",
    "    stack.Add(histo)                                                                                                            \n",
    "    #Denominotor for ratioPlot\n",
    "    if(imc>0): h_Allbkg.Add(histo)\n",
    "ratioHisto.Divide(h_Allbkg)        "
   ]
  },
  {
   "cell_type": "code",
   "execution_count": 22,
   "metadata": {},
   "outputs": [],
   "source": [
    "import plot_settings as plotsetting\n",
    "plotsetting.PlotRatioPad=True\n",
    "plotsetting.year=2018                                                                                                           \n",
    "plotsetting.publicationStyle=False\n",
    "plotsetting.WorkInProgress=True"
   ]
  },
  {
   "cell_type": "code",
   "execution_count": null,
   "metadata": {},
   "outputs": [],
   "source": []
  },
  {
   "cell_type": "code",
   "execution_count": 23,
   "metadata": {},
   "outputs": [],
   "source": [
    "##Obs/Exp Legend\n",
    "ratioleg = ROOT.TLegend(0.99, 0.90, 0.81,0.87)\n",
    "plotsetting.SetLegendStyle(ratioleg)\n",
    "ratioleg.SetTextSize(0.03)\n",
    "ratioleg.SetHeader(\"obs/exp=\"+(str(obs/exp)[:5]))\n",
    "\n",
    "##Legend Settings\n",
    "legend = ROOT.TLegend(0.99, 0.45, 0.80,0.86) \n",
    "plotsetting.SetLegendStyle(legend)\n",
    "legend.AddEntry(dataHisto,\"Data [\"+plotsetting.Count(dataHisto)+\"]\",\"ep\")\n",
    "for imc,mc in reversed(list(enumerate(bkgBundle))):\n",
    "    histoname=HistoDict[mc][0]\n",
    "    color=HistoDict[mc][3]\n",
    "    histo=HistoDict[mc][-1]    \n",
    "    legend.AddEntry(histo,histoname+\"[\"+Count(histo)+\"]\",\"lf\")"
   ]
  },
  {
   "cell_type": "code",
   "execution_count": 36,
   "metadata": {
    "scrolled": false
   },
   "outputs": [
    {
     "name": "stderr",
     "output_type": "stream",
     "text": [
      "Warning in <TCanvas::Constructor>: Deleting canvas with same name: canvas\n",
      "Info in <TCanvas::Print>: pdf file ../output/VLL2018_WJetCR_mtjet0_l2j.pdf has been created\n"
     ]
    },
    {
     "data": {
      "image/png": "[encoded data removed]",
      "text/plain": [
       "<IPython.core.display.Image object>"
      ]
     },
     "metadata": {},
     "output_type": "display_data"
    }
   ],
   "source": [
    "##Plotting\n",
    "canvas=TCanvas(\"canvas\",\"\",700,600)                                                                                             \n",
    "pad=plotsetting.CreatePad(\"pad\",0,1.0)                                                                                          \n",
    "#pad.SetLogy(0)\n",
    "pad.Draw()                                                                                                                      \n",
    "\n",
    "#RatioPad                                                                                                                       \n",
    "if(plotsetting.PlotRatioPad==True):                                                                                                         \n",
    "    ratioPad = plotsetting.CreateRatioPad('ratioPad',0,0.25)                                                                    \n",
    "    ratioPad.SetGrid(1)                                                                                                         \n",
    "    ratioPad.Draw()                                                                                                             \n",
    "\n",
    "pad.cd()                                                                                                                        \n",
    "##MainPadStyle \n",
    "pad.SetFillStyle(4000)\n",
    "plotsetting.SetHistoStyle(dataHisto,xlabel=Plotname)                                                                        \n",
    "##Draw                                                                                                                          \n",
    "dataHisto.Draw(\"ep\")                                                                                                            \n",
    "stack.Draw(\"HIST SAME\")                                                                                                         \n",
    "dataHisto.Draw(\"ep same\")                                                                                                       \n",
    "legend.Draw(\"SAME\")\n",
    "ratioleg.Draw(\"SAME\")\n",
    "plotsetting.CMSLabel(pad)\n",
    "pad.SetTickx(1)\n",
    "pad.Update()\n",
    "##RatioPadDraw                                                                                                                  \n",
    "if(plotsetting.PlotRatioPad==True):                                                                                                         \n",
    "    ratioPad.cd()                                                                                                               \n",
    "    plotsetting.SetRatioHistoStyle(ratioHisto,xlabel=Plotname)                                                              \n",
    "    ratioHisto.Draw('ep')\n",
    "\n",
    "#Extra Text\n",
    "pad.cd()\n",
    "plotsetting.DrawText(0.60,0.84,'2018 WJets CR')    \n",
    "\n",
    "outputName=AnalysisName+'WJetCR_'+Plotname+'.pdf'\n",
    "canvas.SaveAs('../output/'+outputName)\n",
    "#print(outputName)\n",
    "canvas.Draw()"
   ]
  },
  {
   "cell_type": "code",
   "execution_count": 28,
   "metadata": {},
   "outputs": [],
   "source": [
    "#canvas.Clear()"
   ]
  },
  {
   "cell_type": "code",
   "execution_count": null,
   "metadata": {},
   "outputs": [],
   "source": []
  }
 ],
 "metadata": {
  "kernelspec": {
   "display_name": "Python 3",
   "language": "python",
   "name": "python3"
  },
  "language_info": {
   "codemirror_mode": {
    "name": "ipython",
    "version": 3
   },
   "file_extension": ".py",
   "mimetype": "text/x-python",
   "name": "python",
   "nbconvert_exporter": "python",
   "pygments_lexer": "ipython3",
   "version": "3.6.9"
  }
 },
 "nbformat": 4,
 "nbformat_minor": 4
}
